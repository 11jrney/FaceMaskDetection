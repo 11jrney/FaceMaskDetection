{
 "cells": [
  {
   "cell_type": "code",
   "execution_count": 1,
   "id": "bdb8797d",
   "metadata": {},
   "outputs": [],
   "source": [
    "#import libraries\n",
    "import os\n",
    "import numpy as np\n",
    "import pandas as pd\n",
    "import cv2\n",
    "import gc\n",
    "from tqdm import tqdm\n",
    "from glob import glob"
   ]
  },
  {
   "cell_type": "code",
   "execution_count": 5,
   "id": "0247564e",
   "metadata": {},
   "outputs": [],
   "source": [
    "#collection of data and labelling\n",
    "dirs = os.listdir('data') \n",
    "images_path = []\n",
    "labels = []\n",
    "for folder in dirs:\n",
    "    path = glob('./data/{}/*.jpg'.format(folder))\n",
    "    label =['{}'.format(folder)]*len(path)\n",
    "    #append\n",
    "    images_path.extend(path)\n",
    "    labels.extend(label)"
   ]
  },
  {
   "cell_type": "code",
   "execution_count": 7,
   "id": "55b07bbf",
   "metadata": {},
   "outputs": [],
   "source": [
    "#faccedetection\n",
    "img_path = images_path[1]\n",
    "img = cv2.imread(img_path)\n",
    "cv2.imshow('original',img)\n",
    "cv2.waitKey()\n",
    "cv2.destroyAllWindows()"
   ]
  },
  {
   "cell_type": "code",
   "execution_count": 8,
   "id": "ca041efb",
   "metadata": {},
   "outputs": [],
   "source": [
    "#facedetectiponloadmodel\n",
    "face_detection_model = cv2.dnn.readNetFromCaffe('./models/deploy.prototxt.txt',\n",
    "                                                './models/res10_300x300_ssd_iter_140000_fp16.caffemodel')"
   ]
  },
  {
   "cell_type": "code",
   "execution_count": 9,
   "id": "3c127fb9",
   "metadata": {
    "scrolled": true
   },
   "outputs": [],
   "source": [
    "def face_detection_dnn(img):\n",
    "    #blobfromimage(rgb mean subtraction image)\n",
    "    image = img.copy()\n",
    "    h,w = image.shape[:2]\n",
    "    blob = cv2.dnn.blobFromImage(image,1,(300,300),(104,117,123),swapRB=True)\n",
    "    #getthedetection\n",
    "    face_detection_model.setInput(blob)\n",
    "    detections = face_detection_model.forward()\n",
    "    for i in range (0,detections.shape[2]):\n",
    "        confidence = detections[0,0,i,2] #confidencescore\n",
    "        if confidence > 0.5:\n",
    "             box = detections[0,0,i,3:7]*np.array([w,h,w,h]) \n",
    "             box = box.astype(int)\n",
    "             pt1 = (box[0],box[1])\n",
    "             pt2 = (box[2],box[3])\n",
    "             #cv2.rectangle(image,pt1,pt2,(0,255,0),2)\n",
    "             roi = image[box[1]:box[3],box[0]:box[2]]\n",
    "             return roi\n",
    "            \n",
    "        return None"
   ]
  },
  {
   "cell_type": "code",
   "execution_count": 10,
   "id": "08022c95",
   "metadata": {},
   "outputs": [],
   "source": [
    "img_roi = face_detection_dnn(img)\n",
    "cv2.imshow('roi',img_roi)\n",
    "cv2.imshow('original',img)\n",
    "cv2.waitKey()\n",
    "cv2.destroyAllWindows()"
   ]
  },
  {
   "cell_type": "code",
   "execution_count": 11,
   "id": "0a6d027c",
   "metadata": {},
   "outputs": [],
   "source": [
    "def datapreprocess(img):\n",
    "    #Blobfromimage(rgb mean subtraction image)\n",
    "    face = face_detection_dnn(img)\n",
    "    if face is not None:\n",
    "        #computing blob from image\n",
    "        blob = cv2.dnn.blobFromImage(face,1,(100,100),(104,117,123),swapRB=True)\n",
    "        blob_squeeze = np.squeeze(blob).T\n",
    "        blob_rotate = cv2.rotate(blob_squeeze,cv2.ROTATE_90_CLOCKWISE)\n",
    "        blob_flip = cv2.flip(blob_rotate,1)\n",
    "\n",
    "        #removenegative value\n",
    "        img_norm = np.maximum(blob_flip,0)/blob_flip.max()\n",
    "        return img_norm\n",
    "    else:\n",
    "        return None\n"
   ]
  },
  {
   "cell_type": "code",
   "execution_count": 12,
   "id": "ccb73a42",
   "metadata": {},
   "outputs": [
    {
     "name": "stderr",
     "output_type": "stream",
     "text": [
      "preprocessing: 10000it [05:40, 29.40it/s]\n"
     ]
    }
   ],
   "source": [
    "len(images_path)\n",
    "\n",
    "data_img = []\n",
    "label_img = []\n",
    "i=0\n",
    "for path, label in tqdm(zip(images_path,labels),desc='preprocessing'):\n",
    "    img = cv2.imread(path)\n",
    "    process_img = datapreprocess(img)\n",
    "    if process_img is not None:\n",
    "        data_img.append(process_img)\n",
    "        label_img.append(label)\n",
    "                      \n",
    "    i += 1\n",
    "    if i%100 == 0:\n",
    "        gc.collect()"
   ]
  },
  {
   "cell_type": "code",
   "execution_count": 13,
   "id": "05b1410f",
   "metadata": {},
   "outputs": [],
   "source": [
    "X = np.array(data_img)\n",
    "y = np.array(label_img)\n",
    "X.shape, y.shape\n",
    "np.savez('./data/data_preprocess.npz',X,y)"
   ]
  },
  {
   "cell_type": "code",
   "execution_count": null,
   "id": "eab84ef2",
   "metadata": {},
   "outputs": [],
   "source": []
  },
  {
   "cell_type": "code",
   "execution_count": null,
   "id": "bd205458",
   "metadata": {},
   "outputs": [],
   "source": []
  },
  {
   "cell_type": "code",
   "execution_count": null,
   "id": "7013d6f1",
   "metadata": {},
   "outputs": [],
   "source": []
  }
 ],
 "metadata": {
  "kernelspec": {
   "display_name": "Python 3 (ipykernel)",
   "language": "python",
   "name": "python3"
  },
  "language_info": {
   "codemirror_mode": {
    "name": "ipython",
    "version": 3
   },
   "file_extension": ".py",
   "mimetype": "text/x-python",
   "name": "python",
   "nbconvert_exporter": "python",
   "pygments_lexer": "ipython3",
   "version": "3.9.6"
  }
 },
 "nbformat": 4,
 "nbformat_minor": 5
}
