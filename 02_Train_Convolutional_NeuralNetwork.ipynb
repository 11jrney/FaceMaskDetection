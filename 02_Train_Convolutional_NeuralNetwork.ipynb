{
 "cells": [
  {
   "cell_type": "code",
   "execution_count": 1,
   "id": "f2591c19",
   "metadata": {},
   "outputs": [],
   "source": [
    "import os\n",
    "import numpy as np\n",
    "import cv2\n",
    "import gc"
   ]
  },
  {
   "cell_type": "code",
   "execution_count": 2,
   "id": "3253831e",
   "metadata": {},
   "outputs": [],
   "source": [
    "#laod the preprocess data\n",
    "data = np.load('./data/data_preprocess.npz')\n"
   ]
  },
  {
   "cell_type": "code",
   "execution_count": 3,
   "id": "4d46e3e6",
   "metadata": {},
   "outputs": [],
   "source": [
    "X = data['arr_0']\n",
    "y = data['arr_1']"
   ]
  },
  {
   "cell_type": "code",
   "execution_count": 4,
   "id": "edc98570",
   "metadata": {},
   "outputs": [
    {
     "data": {
      "text/plain": [
       "((9959, 100, 100, 3), (9959,))"
      ]
     },
     "execution_count": 4,
     "metadata": {},
     "output_type": "execute_result"
    }
   ],
   "source": [
    "X.shape, y.shape"
   ]
  },
  {
   "cell_type": "code",
   "execution_count": 5,
   "id": "a14671b1",
   "metadata": {},
   "outputs": [
    {
     "data": {
      "text/plain": [
       "array(['Mask', 'Mask_Chin', 'Mask_Mouth_Chin', 'Mask_Nose_Mouth'],\n",
       "      dtype='<U15')"
      ]
     },
     "execution_count": 5,
     "metadata": {},
     "output_type": "execute_result"
    }
   ],
   "source": [
    "np.unique(y)"
   ]
  },
  {
   "cell_type": "code",
   "execution_count": 6,
   "id": "4c370ae1",
   "metadata": {},
   "outputs": [],
   "source": [
    "from sklearn.preprocessing import OneHotEncoder"
   ]
  },
  {
   "cell_type": "code",
   "execution_count": 7,
   "id": "dda480cf",
   "metadata": {},
   "outputs": [],
   "source": [
    "onehot = OneHotEncoder()\n",
    "y_onehot = onehot.fit_transform(y.reshape(-1,1))"
   ]
  },
  {
   "cell_type": "code",
   "execution_count": 8,
   "id": "3467b322",
   "metadata": {},
   "outputs": [],
   "source": [
    "y_array = y_onehot.toarray()"
   ]
  },
  {
   "cell_type": "code",
   "execution_count": 9,
   "id": "1b37f9a8",
   "metadata": {},
   "outputs": [],
   "source": [
    "from sklearn.model_selection import train_test_split\n",
    "x_train, x_test, y_train, y_test = train_test_split(X, y_array, test_size=0.2, random_state=42)"
   ]
  },
  {
   "cell_type": "code",
   "execution_count": 10,
   "id": "acdc8217",
   "metadata": {},
   "outputs": [
    {
     "data": {
      "text/plain": [
       "((7967, 100, 100, 3), (1992, 100, 100, 3), (1992, 4), (1992, 4))"
      ]
     },
     "execution_count": 10,
     "metadata": {},
     "output_type": "execute_result"
    }
   ],
   "source": [
    "x_train.shape,x_test.shape,y_test.shape,y_test.shape"
   ]
  },
  {
   "cell_type": "code",
   "execution_count": 11,
   "id": "44edbb5a",
   "metadata": {},
   "outputs": [],
   "source": [
    "import tensorflow as tf\n",
    "from tensorflow.keras import layers\n",
    "from tensorflow.keras import Sequential"
   ]
  },
  {
   "cell_type": "code",
   "execution_count": 12,
   "id": "bd93e6ea",
   "metadata": {},
   "outputs": [],
   "source": [
    "#convolutional neural network\n",
    "model = Sequential([\n",
    "    layers.Conv2D(16,3,padding='same',input_shape=(100,100,3),activation='relu'),\n",
    "    layers.MaxPool2D(),\n",
    "    layers.Conv2D(32,3,padding='same',activation='relu'),\n",
    "    layers.MaxPool2D(),\n",
    "    layers.Conv2D(64,3,padding='same',activation='relu'),\n",
    "    layers.MaxPool2D(),\n",
    "    layers.Flatten(),\n",
    "    layers.Dense(192,activation='relu'),\n",
    "    layers.Dense(28,activation='relu'),\n",
    "    layers.Dense(4,activation='sigmoid')\n",
    "])\n",
    "\n",
    "#Compiling CNN\n",
    "model.compile(optimizer=tf.keras.optimizers.Adam(learning_rate=0.001),\n",
    "              loss=tf.keras.losses.categorical_crossentropy,metrics=['accuracy'])"
   ]
  },
  {
   "cell_type": "code",
   "execution_count": 13,
   "id": "b8b13a3f",
   "metadata": {},
   "outputs": [
    {
     "name": "stdout",
     "output_type": "stream",
     "text": [
      "Model: \"sequential\"\n",
      "_________________________________________________________________\n",
      " Layer (type)                Output Shape              Param #   \n",
      "=================================================================\n",
      " conv2d (Conv2D)             (None, 100, 100, 16)      448       \n",
      "                                                                 \n",
      " max_pooling2d (MaxPooling2D  (None, 50, 50, 16)       0         \n",
      " )                                                               \n",
      "                                                                 \n",
      " conv2d_1 (Conv2D)           (None, 50, 50, 32)        4640      \n",
      "                                                                 \n",
      " max_pooling2d_1 (MaxPooling  (None, 25, 25, 32)       0         \n",
      " 2D)                                                             \n",
      "                                                                 \n",
      " conv2d_2 (Conv2D)           (None, 25, 25, 64)        18496     \n",
      "                                                                 \n",
      " max_pooling2d_2 (MaxPooling  (None, 12, 12, 64)       0         \n",
      " 2D)                                                             \n",
      "                                                                 \n",
      " flatten (Flatten)           (None, 9216)              0         \n",
      "                                                                 \n",
      " dense (Dense)               (None, 192)               1769664   \n",
      "                                                                 \n",
      " dense_1 (Dense)             (None, 28)                5404      \n",
      "                                                                 \n",
      " dense_2 (Dense)             (None, 4)                 116       \n",
      "                                                                 \n",
      "=================================================================\n",
      "Total params: 1,798,768\n",
      "Trainable params: 1,798,768\n",
      "Non-trainable params: 0\n",
      "_________________________________________________________________\n"
     ]
    }
   ],
   "source": [
    "model.summary()"
   ]
  },
  {
   "cell_type": "code",
   "execution_count": 14,
   "id": "d517d359",
   "metadata": {},
   "outputs": [
    {
     "name": "stdout",
     "output_type": "stream",
     "text": [
      "Epoch 1/15\n",
      "266/266 [==============================] - 24s 90ms/step - loss: 0.2317 - accuracy: 0.9178 - val_loss: 0.0819 - val_accuracy: 0.9744\n",
      "Epoch 2/15\n",
      "266/266 [==============================] - 23s 87ms/step - loss: 0.0721 - accuracy: 0.9780 - val_loss: 0.0545 - val_accuracy: 0.9829\n",
      "Epoch 3/15\n",
      "266/266 [==============================] - 23s 87ms/step - loss: 0.0458 - accuracy: 0.9852 - val_loss: 0.0600 - val_accuracy: 0.9804\n",
      "Epoch 4/15\n",
      "266/266 [==============================] - 23s 87ms/step - loss: 0.0284 - accuracy: 0.9893 - val_loss: 0.0559 - val_accuracy: 0.9839\n",
      "Epoch 5/15\n",
      "266/266 [==============================] - 23s 87ms/step - loss: 0.0172 - accuracy: 0.9937 - val_loss: 0.0395 - val_accuracy: 0.9864\n",
      "Epoch 6/15\n",
      "266/266 [==============================] - 24s 89ms/step - loss: 0.0214 - accuracy: 0.9933 - val_loss: 0.1119 - val_accuracy: 0.9734\n",
      "Epoch 7/15\n",
      "266/266 [==============================] - 23s 88ms/step - loss: 0.0119 - accuracy: 0.9960 - val_loss: 0.0540 - val_accuracy: 0.9854\n",
      "Epoch 8/15\n",
      "266/266 [==============================] - 24s 89ms/step - loss: 0.0105 - accuracy: 0.9966 - val_loss: 0.0460 - val_accuracy: 0.9895\n",
      "Epoch 9/15\n",
      "266/266 [==============================] - 23s 88ms/step - loss: 7.3850e-04 - accuracy: 1.0000 - val_loss: 0.0491 - val_accuracy: 0.9885\n",
      "Epoch 10/15\n",
      "266/266 [==============================] - 25s 96ms/step - loss: 0.0114 - accuracy: 0.9961 - val_loss: 0.0586 - val_accuracy: 0.9844\n",
      "Epoch 11/15\n",
      "266/266 [==============================] - 27s 101ms/step - loss: 8.2020e-04 - accuracy: 0.9999 - val_loss: 0.0654 - val_accuracy: 0.9880\n",
      "Epoch 12/15\n",
      "266/266 [==============================] - 25s 96ms/step - loss: 0.0031 - accuracy: 0.9991 - val_loss: 0.0603 - val_accuracy: 0.9869\n",
      "Epoch 13/15\n",
      "266/266 [==============================] - 26s 96ms/step - loss: 0.0068 - accuracy: 0.9977 - val_loss: 0.1200 - val_accuracy: 0.9764\n",
      "Epoch 14/15\n",
      "266/266 [==============================] - 23s 88ms/step - loss: 0.0191 - accuracy: 0.9937 - val_loss: 0.0811 - val_accuracy: 0.9854\n",
      "Epoch 15/15\n",
      "266/266 [==============================] - 23s 87ms/step - loss: 0.0099 - accuracy: 0.9959 - val_loss: 0.0517 - val_accuracy: 0.9869\n"
     ]
    }
   ],
   "source": [
    "#training CNN\n",
    "history = model.fit(x=x_train,y=y_train,validation_data=(x_test,y_test),batch_size=30,epochs=15)"
   ]
  },
  {
   "cell_type": "code",
   "execution_count": 15,
   "id": "2b573fcc",
   "metadata": {},
   "outputs": [],
   "source": [
    "import pandas as pd\n",
    "import matplotlib.pyplot as plt"
   ]
  },
  {
   "cell_type": "code",
   "execution_count": 16,
   "id": "8388e286",
   "metadata": {},
   "outputs": [],
   "source": [
    "history_df = pd.DataFrame(history.history)"
   ]
  },
  {
   "cell_type": "code",
   "execution_count": 17,
   "id": "87e2135f",
   "metadata": {},
   "outputs": [
    {
     "data": {
      "text/html": [
       "<div>\n",
       "<style scoped>\n",
       "    .dataframe tbody tr th:only-of-type {\n",
       "        vertical-align: middle;\n",
       "    }\n",
       "\n",
       "    .dataframe tbody tr th {\n",
       "        vertical-align: top;\n",
       "    }\n",
       "\n",
       "    .dataframe thead th {\n",
       "        text-align: right;\n",
       "    }\n",
       "</style>\n",
       "<table border=\"1\" class=\"dataframe\">\n",
       "  <thead>\n",
       "    <tr style=\"text-align: right;\">\n",
       "      <th></th>\n",
       "      <th>loss</th>\n",
       "      <th>accuracy</th>\n",
       "      <th>val_loss</th>\n",
       "      <th>val_accuracy</th>\n",
       "    </tr>\n",
       "  </thead>\n",
       "  <tbody>\n",
       "    <tr>\n",
       "      <th>0</th>\n",
       "      <td>0.231684</td>\n",
       "      <td>0.917786</td>\n",
       "      <td>0.081862</td>\n",
       "      <td>0.974398</td>\n",
       "    </tr>\n",
       "    <tr>\n",
       "      <th>1</th>\n",
       "      <td>0.072142</td>\n",
       "      <td>0.978034</td>\n",
       "      <td>0.054460</td>\n",
       "      <td>0.982932</td>\n",
       "    </tr>\n",
       "    <tr>\n",
       "      <th>2</th>\n",
       "      <td>0.045777</td>\n",
       "      <td>0.985189</td>\n",
       "      <td>0.060031</td>\n",
       "      <td>0.980422</td>\n",
       "    </tr>\n",
       "    <tr>\n",
       "      <th>3</th>\n",
       "      <td>0.028404</td>\n",
       "      <td>0.989331</td>\n",
       "      <td>0.055884</td>\n",
       "      <td>0.983936</td>\n",
       "    </tr>\n",
       "    <tr>\n",
       "      <th>4</th>\n",
       "      <td>0.017235</td>\n",
       "      <td>0.993724</td>\n",
       "      <td>0.039542</td>\n",
       "      <td>0.986446</td>\n",
       "    </tr>\n",
       "    <tr>\n",
       "      <th>5</th>\n",
       "      <td>0.021377</td>\n",
       "      <td>0.993348</td>\n",
       "      <td>0.111877</td>\n",
       "      <td>0.973394</td>\n",
       "    </tr>\n",
       "    <tr>\n",
       "      <th>6</th>\n",
       "      <td>0.011910</td>\n",
       "      <td>0.995983</td>\n",
       "      <td>0.053975</td>\n",
       "      <td>0.985442</td>\n",
       "    </tr>\n",
       "    <tr>\n",
       "      <th>7</th>\n",
       "      <td>0.010528</td>\n",
       "      <td>0.996611</td>\n",
       "      <td>0.045981</td>\n",
       "      <td>0.989458</td>\n",
       "    </tr>\n",
       "    <tr>\n",
       "      <th>8</th>\n",
       "      <td>0.000739</td>\n",
       "      <td>1.000000</td>\n",
       "      <td>0.049095</td>\n",
       "      <td>0.988454</td>\n",
       "    </tr>\n",
       "    <tr>\n",
       "      <th>9</th>\n",
       "      <td>0.011437</td>\n",
       "      <td>0.996109</td>\n",
       "      <td>0.058574</td>\n",
       "      <td>0.984438</td>\n",
       "    </tr>\n",
       "    <tr>\n",
       "      <th>10</th>\n",
       "      <td>0.000820</td>\n",
       "      <td>0.999874</td>\n",
       "      <td>0.065389</td>\n",
       "      <td>0.987952</td>\n",
       "    </tr>\n",
       "    <tr>\n",
       "      <th>11</th>\n",
       "      <td>0.003145</td>\n",
       "      <td>0.999121</td>\n",
       "      <td>0.060301</td>\n",
       "      <td>0.986948</td>\n",
       "    </tr>\n",
       "    <tr>\n",
       "      <th>12</th>\n",
       "      <td>0.006797</td>\n",
       "      <td>0.997741</td>\n",
       "      <td>0.119998</td>\n",
       "      <td>0.976406</td>\n",
       "    </tr>\n",
       "    <tr>\n",
       "      <th>13</th>\n",
       "      <td>0.019060</td>\n",
       "      <td>0.993724</td>\n",
       "      <td>0.081117</td>\n",
       "      <td>0.985442</td>\n",
       "    </tr>\n",
       "    <tr>\n",
       "      <th>14</th>\n",
       "      <td>0.009878</td>\n",
       "      <td>0.995858</td>\n",
       "      <td>0.051664</td>\n",
       "      <td>0.986948</td>\n",
       "    </tr>\n",
       "  </tbody>\n",
       "</table>\n",
       "</div>"
      ],
      "text/plain": [
       "        loss  accuracy  val_loss  val_accuracy\n",
       "0   0.231684  0.917786  0.081862      0.974398\n",
       "1   0.072142  0.978034  0.054460      0.982932\n",
       "2   0.045777  0.985189  0.060031      0.980422\n",
       "3   0.028404  0.989331  0.055884      0.983936\n",
       "4   0.017235  0.993724  0.039542      0.986446\n",
       "5   0.021377  0.993348  0.111877      0.973394\n",
       "6   0.011910  0.995983  0.053975      0.985442\n",
       "7   0.010528  0.996611  0.045981      0.989458\n",
       "8   0.000739  1.000000  0.049095      0.988454\n",
       "9   0.011437  0.996109  0.058574      0.984438\n",
       "10  0.000820  0.999874  0.065389      0.987952\n",
       "11  0.003145  0.999121  0.060301      0.986948\n",
       "12  0.006797  0.997741  0.119998      0.976406\n",
       "13  0.019060  0.993724  0.081117      0.985442\n",
       "14  0.009878  0.995858  0.051664      0.986948"
      ]
     },
     "execution_count": 17,
     "metadata": {},
     "output_type": "execute_result"
    }
   ],
   "source": [
    "history_df"
   ]
  },
  {
   "cell_type": "code",
   "execution_count": 18,
   "id": "ffb503df",
   "metadata": {},
   "outputs": [
    {
     "data": {
      "image/png": "[encoded data removed]",
      "text/plain": [
       "<Figure size 432x288 with 1 Axes>"
      ]
     },
     "metadata": {
      "needs_background": "light"
     },
     "output_type": "display_data"
    }
   ],
   "source": [
    "history_df[['loss','val_loss']].plot(kind='line')\n",
    "plt.xlabel('Epochs')\n",
    "plt.ylabel('Loss')\n",
    "plt.xticks(list(range(10)),list(range(1,11)))\n",
    "plt.show()"
   ]
  },
  {
   "cell_type": "code",
   "execution_count": 19,
   "id": "d1f817e3",
   "metadata": {},
   "outputs": [
    {
     "data": {
      "image/png": "[encoded data removed]",
      "text/plain": [
       "<Figure size 432x288 with 1 Axes>"
      ]
     },
     "metadata": {
      "needs_background": "light"
     },
     "output_type": "display_data"
    }
   ],
   "source": [
    "history_df[['accuracy','val_accuracy']].plot(kind='line')\n",
    "plt.xlabel('Epochs')\n",
    "plt.ylabel('Accuracy')\n",
    "plt.xticks(list(range(10)),list(range(1,11)))\n",
    "plt.show()"
   ]
  },
  {
   "cell_type": "code",
   "execution_count": 20,
   "id": "a37a704f",
   "metadata": {},
   "outputs": [
    {
     "name": "stdout",
     "output_type": "stream",
     "text": [
      "INFO:tensorflow:Assets written to: face_cnn_model\\assets\n"
     ]
    }
   ],
   "source": [
    "#save CNN model\n",
    "model.save('face_cnn_model')"
   ]
  },
  {
   "cell_type": "code",
   "execution_count": 21,
   "id": "3e658300",
   "metadata": {},
   "outputs": [
    {
     "data": {
      "text/plain": [
       "[array(['Mask', 'Mask_Chin', 'Mask_Mouth_Chin', 'Mask_Nose_Mouth'],\n",
       "       dtype='<U15')]"
      ]
     },
     "execution_count": 21,
     "metadata": {},
     "output_type": "execute_result"
    }
   ],
   "source": [
    "onehot.categories_"
   ]
  },
  {
   "cell_type": "code",
   "execution_count": null,
   "id": "7edb1f3b",
   "metadata": {},
   "outputs": [],
   "source": []
  }
 ],
 "metadata": {
  "kernelspec": {
   "display_name": "Python 3 (ipykernel)",
   "language": "python",
   "name": "python3"
  },
  "language_info": {
   "codemirror_mode": {
    "name": "ipython",
    "version": 3
   },
   "file_extension": ".py",
   "mimetype": "text/x-python",
   "name": "python",
   "nbconvert_exporter": "python",
   "pygments_lexer": "ipython3",
   "version": "3.9.6"
  }
 },
 "nbformat": 4,
 "nbformat_minor": 5
}
